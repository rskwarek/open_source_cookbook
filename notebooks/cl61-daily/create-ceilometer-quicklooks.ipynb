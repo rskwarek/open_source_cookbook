{
 "cells": [
  {
   "cell_type": "code",
   "execution_count": 1,
   "id": "34401627-75bc-4a36-b9d8-8714bbd854c2",
   "metadata": {},
   "outputs": [],
   "source": [
    "import xarray as xr\n",
    "import matplotlib.pyplot as plt\n",
    "import act\n",
    "import glob\n",
    "import cmweather\n",
    "from pathlib import Path"
   ]
  },
  {
   "cell_type": "code",
   "execution_count": 2,
   "id": "51d5d4dd-8dfa-4a1b-b428-a431be1ee014",
   "metadata": {},
   "outputs": [],
   "source": [
    "files = sorted(glob.glob(\"june_data/*.nc\"))"
   ]
  },
  {
   "cell_type": "code",
   "execution_count": 3,
   "id": "c56eec72-5d8c-4468-ad17-f2267f1ace09",
   "metadata": {},
   "outputs": [
    {
     "data": {
      "text/plain": [
       "['april_data/crocus-neiu-ceil-a1-20240401-000000.nc',\n",
       " 'april_data/crocus-neiu-ceil-a1-20240402-000000.nc']"
      ]
     },
     "execution_count": 3,
     "metadata": {},
     "output_type": "execute_result"
    }
   ],
   "source": [
    "files[:2]"
   ]
  },
  {
   "cell_type": "code",
   "execution_count": 3,
   "id": "5996db4e-7928-4a5b-842a-77b66216ffcb",
   "metadata": {},
   "outputs": [],
   "source": [
    "for file in files:\n",
    "    ds = xr.open_dataset(file)\n",
    "    ds = act.corrections.correct_ceil(ds, var_name='beta_att')\n",
    "    ds.beta_att.plot(x='time',\n",
    "                 vmin=-8,\n",
    "                 vmax=-2,\n",
    "                 cmap='HomeyerRainbow')\n",
    "    ds.cloud_base_heights.isel(layer=0).plot(color='k',\n",
    "                                         x='time',\n",
    "                                         linewidth=1,\n",
    "                                         label='Cloud Base Height')\n",
    "    plt.ylabel(\"Height Above Ground (m)\")\n",
    "    plt.legend(loc='upper right')\n",
    "    plt.title(\"Backscatter and Derived Cloud Base Height \\n at Northeastern Illinois University\")\n",
    "    plt.ylim(0, 5000)\n",
    "    plt.savefig(f\"images/{Path(file).stem}.png\", dpi=300)\n",
    "    plt.close()"
   ]
  },
  {
   "cell_type": "code",
   "execution_count": null,
   "id": "9c54da2f-49e6-46d0-8802-855eec5440ae",
   "metadata": {},
   "outputs": [],
   "source": []
  },
  {
   "cell_type": "code",
   "execution_count": null,
   "id": "1f513977-4784-4d0c-ae35-3c9ba0f7a2d8",
   "metadata": {},
   "outputs": [],
   "source": []
  }
 ],
 "metadata": {
  "kernelspec": {
   "display_name": "Python 3 (ipykernel)",
   "language": "python",
   "name": "python3"
  },
  "language_info": {
   "codemirror_mode": {
    "name": "ipython",
    "version": 3
   },
   "file_extension": ".py",
   "mimetype": "text/x-python",
   "name": "python",
   "nbconvert_exporter": "python",
   "pygments_lexer": "ipython3",
   "version": "3.12.3"
  }
 },
 "nbformat": 4,
 "nbformat_minor": 5
}
